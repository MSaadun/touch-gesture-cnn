{
 "cells": [
  {
   "cell_type": "markdown",
   "metadata": {
    "colab_type": "text",
    "id": "rsDpGs29Zhd2"
   },
   "source": [
    "# Optional part of code"
   ]
  },
  {
   "cell_type": "markdown",
   "metadata": {
    "colab_type": "text",
    "id": "iBnhP2k5ZoQ7"
   },
   "source": [
    "Only needed if it is run on Google colab systems"
   ]
  },
  {
   "cell_type": "code",
   "execution_count": 0,
   "metadata": {
    "colab": {
     "base_uri": "https://localhost:8080/",
     "height": 120
    },
    "colab_type": "code",
    "id": "7c1Ka-ih1EDi",
    "outputId": "4f60f542-7160-4a9e-e70b-5c1415cb7c7f"
   },
   "outputs": [
    {
     "name": "stdout",
     "output_type": "stream",
     "text": [
      "Go to this URL in a browser: https://accounts.google.com/o/oauth2/auth?client_id=947318989803-6bn6qk8qdgf4n4g3pfee6491hc0brc4i.apps.googleusercontent.com&redirect_uri=urn%3aietf%3awg%3aoauth%3a2.0%3aoob&response_type=code&scope=email%20https%3a%2f%2fwww.googleapis.com%2fauth%2fdocs.test%20https%3a%2f%2fwww.googleapis.com%2fauth%2fdrive%20https%3a%2f%2fwww.googleapis.com%2fauth%2fdrive.photos.readonly%20https%3a%2f%2fwww.googleapis.com%2fauth%2fpeopleapi.readonly\n",
      "\n",
      "Enter your authorization code:\n",
      "··········\n",
      "Mounted at /content/drive\n"
     ]
    }
   ],
   "source": [
    "#Files are in Google Drive, so we must make a connection by authorization\n",
    "from google.colab import drive\n",
    "drive.mount('/content/drive')"
   ]
  },
  {
   "cell_type": "code",
   "execution_count": 0,
   "metadata": {
    "colab": {
     "base_uri": "https://localhost:8080/",
     "height": 34
    },
    "colab_type": "code",
    "id": "Cr8jTukV1KEx",
    "outputId": "33d43766-f6a1-45a8-d51c-5ad5539a778b"
   },
   "outputs": [
    {
     "name": "stdout",
     "output_type": "stream",
     "text": [
      "'My Drive'\n"
     ]
    }
   ],
   "source": [
    "#Check if and which drive is mounted \n",
    "import os\n",
    "os.chdir(\"/content/drive/\")\n",
    "!ls"
   ]
  },
  {
   "cell_type": "markdown",
   "metadata": {
    "colab_type": "text",
    "id": "wyk6dJYlaJLb"
   },
   "source": [
    "# 1. Load modules and packages"
   ]
  },
  {
   "cell_type": "code",
   "execution_count": 0,
   "metadata": {
    "colab": {
     "base_uri": "https://localhost:8080/",
     "height": 853
    },
    "colab_type": "code",
    "id": "-A6Aj7_y1KHU",
    "outputId": "c41fb72e-5e86-4d79-8d6e-950087fe2b52"
   },
   "outputs": [
    {
     "name": "stdout",
     "output_type": "stream",
     "text": [
      "Collecting glob3\n",
      "  Downloading https://files.pythonhosted.org/packages/d6/21/e042ea7bcb917bac5cf2365d532d44efc23650be81456546a6e89e25371e/glob3-0.0.1.tar.gz\n",
      "Building wheels for collected packages: glob3\n",
      "  Building wheel for glob3 (setup.py) ... \u001b[?25l\u001b[?25hdone\n",
      "  Created wheel for glob3: filename=glob3-0.0.1-cp36-none-any.whl size=1680 sha256=d7cdefe9d9616ea452fbdb2d09c371623d99082c165a851a45773f235cc3df8a\n",
      "  Stored in directory: /root/.cache/pip/wheels/5c/db/36/aae4683ac0ba95eb154510b48d6bda87fbaac71b6a9b62123d\n",
      "Successfully built glob3\n",
      "Installing collected packages: glob3\n",
      "Successfully installed glob3-0.0.1\n",
      "Collecting scipy==1.1.0\n",
      "\u001b[?25l  Downloading https://files.pythonhosted.org/packages/a8/0b/f163da98d3a01b3e0ef1cab8dd2123c34aee2bafbb1c5bffa354cc8a1730/scipy-1.1.0-cp36-cp36m-manylinux1_x86_64.whl (31.2MB)\n",
      "\u001b[K     |████████████████████████████████| 31.2MB 44.6MB/s \n",
      "\u001b[?25hRequirement already satisfied: numpy>=1.8.2 in /usr/local/lib/python3.6/dist-packages (from scipy==1.1.0) (1.17.4)\n",
      "\u001b[31mERROR: albumentations 0.1.12 has requirement imgaug<0.2.7,>=0.2.5, but you'll have imgaug 0.2.9 which is incompatible.\u001b[0m\n",
      "Installing collected packages: scipy\n",
      "  Found existing installation: scipy 1.3.2\n",
      "    Uninstalling scipy-1.3.2:\n",
      "      Successfully uninstalled scipy-1.3.2\n",
      "Successfully installed scipy-1.1.0\n",
      "Collecting imgaug==0.2.6\n",
      "\u001b[?25l  Downloading https://files.pythonhosted.org/packages/ad/2e/748dbb7bb52ec8667098bae9b585f448569ae520031932687761165419a2/imgaug-0.2.6.tar.gz (631kB)\n",
      "\u001b[K     |████████████████████████████████| 634kB 2.8MB/s \n",
      "\u001b[?25hRequirement already satisfied: scipy in /usr/local/lib/python3.6/dist-packages (from imgaug==0.2.6) (1.1.0)\n",
      "Requirement already satisfied: scikit-image>=0.11.0 in /usr/local/lib/python3.6/dist-packages (from imgaug==0.2.6) (0.15.0)\n",
      "Requirement already satisfied: numpy>=1.7.0 in /usr/local/lib/python3.6/dist-packages (from imgaug==0.2.6) (1.17.4)\n",
      "Requirement already satisfied: six in /usr/local/lib/python3.6/dist-packages (from imgaug==0.2.6) (1.12.0)\n",
      "Requirement already satisfied: imageio>=2.0.1 in /usr/local/lib/python3.6/dist-packages (from scikit-image>=0.11.0->imgaug==0.2.6) (2.4.1)\n",
      "Requirement already satisfied: pillow>=4.3.0 in /usr/local/lib/python3.6/dist-packages (from scikit-image>=0.11.0->imgaug==0.2.6) (4.3.0)\n",
      "Requirement already satisfied: networkx>=2.0 in /usr/local/lib/python3.6/dist-packages (from scikit-image>=0.11.0->imgaug==0.2.6) (2.4)\n",
      "Requirement already satisfied: PyWavelets>=0.4.0 in /usr/local/lib/python3.6/dist-packages (from scikit-image>=0.11.0->imgaug==0.2.6) (1.1.1)\n",
      "Requirement already satisfied: matplotlib!=3.0.0,>=2.0.0 in /usr/local/lib/python3.6/dist-packages (from scikit-image>=0.11.0->imgaug==0.2.6) (3.1.1)\n",
      "Requirement already satisfied: olefile in /usr/local/lib/python3.6/dist-packages (from pillow>=4.3.0->scikit-image>=0.11.0->imgaug==0.2.6) (0.46)\n",
      "Requirement already satisfied: decorator>=4.3.0 in /usr/local/lib/python3.6/dist-packages (from networkx>=2.0->scikit-image>=0.11.0->imgaug==0.2.6) (4.4.1)\n",
      "Requirement already satisfied: cycler>=0.10 in /usr/local/lib/python3.6/dist-packages (from matplotlib!=3.0.0,>=2.0.0->scikit-image>=0.11.0->imgaug==0.2.6) (0.10.0)\n",
      "Requirement already satisfied: kiwisolver>=1.0.1 in /usr/local/lib/python3.6/dist-packages (from matplotlib!=3.0.0,>=2.0.0->scikit-image>=0.11.0->imgaug==0.2.6) (1.1.0)\n",
      "Requirement already satisfied: pyparsing!=2.0.4,!=2.1.2,!=2.1.6,>=2.0.1 in /usr/local/lib/python3.6/dist-packages (from matplotlib!=3.0.0,>=2.0.0->scikit-image>=0.11.0->imgaug==0.2.6) (2.4.5)\n",
      "Requirement already satisfied: python-dateutil>=2.1 in /usr/local/lib/python3.6/dist-packages (from matplotlib!=3.0.0,>=2.0.0->scikit-image>=0.11.0->imgaug==0.2.6) (2.6.1)\n",
      "Requirement already satisfied: setuptools in /usr/local/lib/python3.6/dist-packages (from kiwisolver>=1.0.1->matplotlib!=3.0.0,>=2.0.0->scikit-image>=0.11.0->imgaug==0.2.6) (41.6.0)\n",
      "Building wheels for collected packages: imgaug\n",
      "  Building wheel for imgaug (setup.py) ... \u001b[?25l\u001b[?25hdone\n",
      "  Created wheel for imgaug: filename=imgaug-0.2.6-cp36-none-any.whl size=654020 sha256=00ba9e60713e830e9cac505bb681356fd541df5f5e6996f83c1145857415ae5f\n",
      "  Stored in directory: /root/.cache/pip/wheels/97/ec/48/0d25896c417b715af6236dbcef8f0bed136a1a5e52972fc6d0\n",
      "Successfully built imgaug\n",
      "Installing collected packages: imgaug\n",
      "  Found existing installation: imgaug 0.2.9\n",
      "    Uninstalling imgaug-0.2.9:\n",
      "      Successfully uninstalled imgaug-0.2.9\n",
      "Successfully installed imgaug-0.2.6\n"
     ]
    }
   ],
   "source": [
    "# Import necessary modules and install the ones that are not in Colab\n",
    "# Likewise, if not working on Colab, remove '!' before 'pip install'\n",
    "\n",
    "!pip install glob3\n",
    "!pip install scipy==1.1.0\n",
    "!pip install imgaug==0.2.6\n",
    "import os\n",
    "import numpy as np\n",
    "import glob\n",
    "import scipy\n",
    "import scipy.ndimage\n",
    "import scipy.misc\n",
    "import re\n",
    "import pandas as pd\n",
    "\n",
    "\n",
    "\n"
   ]
  },
  {
   "cell_type": "markdown",
   "metadata": {
    "colab_type": "text",
    "id": "YTIwLPrlZxaM"
   },
   "source": [
    "# 2. Training data preparation "
   ]
  },
  {
   "cell_type": "markdown",
   "metadata": {
    "colab_type": "text",
    "id": "s70z3IAxaPtZ"
   },
   "source": [
    "Load the training files first. \n",
    "Ofcourse, the path should be changed to where the images are stored.\n",
    "Choose between 2.1a or 2.1b. Because 2.1a is not necessary if step 2.1b is taken. In 2.1b you load the pre-processed data from a ready made numpy array. "
   ]
  },
  {
   "cell_type": "markdown",
   "metadata": {
    "colab_type": "text",
    "id": "YCWuI6ZGbGC0"
   },
   "source": [
    "## 2.1a Pre-process training data"
   ]
  },
  {
   "cell_type": "code",
   "execution_count": 0,
   "metadata": {
    "colab": {
     "base_uri": "https://localhost:8080/",
     "height": 91
    },
    "colab_type": "code",
    "id": "bgcVbOHlzHxy",
    "outputId": "f0e3f393-aedb-47cd-8a49-1884d3316c9d"
   },
   "outputs": [
    {
     "name": "stderr",
     "output_type": "stream",
     "text": [
      "/usr/local/lib/python3.6/dist-packages/ipykernel_launcher.py:7: DeprecationWarning: `imread` is deprecated!\n",
      "`imread` is deprecated in SciPy 1.0.0.\n",
      "Use ``matplotlib.pyplot.imread`` instead.\n",
      "  import sys\n"
     ]
    }
   ],
   "source": [
    "file_images_train = glob.glob('/content/drive/My Drive/Thesis/Dataset/Images/gaf/Train/*.png')\n",
    "x_images_train = []\n",
    "\n",
    "for file in file_images_train:\n",
    "    ## Use mode 'RGB' since images are png ('RGBA').\n",
    "    ## No use to the Alpha channel other than making the color transparent/opaque\n",
    "    img = scipy.ndimage.imread(file, mode='RGB')\n",
    "    ## Possible to resize images if necessary for RAM availability\n",
    "    #img = scipy.misc.imresize(img, (230,230)) \n",
    "    x_images_train.append(img)\n",
    "    \n",
    "x_images_train = np.array(x_images_train)\n",
    "\n",
    "#Since images are RGB, and thus three channels, divide by 255 (range 0-255)\n",
    "#this way we normalize the images. That is, divide each element of the dataset by the total pixel number: 255. \n",
    "#Once this is done, the array will have values between 0 and 1.\n",
    "x_images_train = (x_images_train)/(255)\n",
    "np.save('/content/drive/My Drive/Thesis/Dataset/x_images_train_numpy_clean.npy', x_images_train)"
   ]
  },
  {
   "cell_type": "markdown",
   "metadata": {
    "colab_type": "text",
    "id": "mVR5ds_PazBF"
   },
   "source": [
    "## 2.1b Load training"
   ]
  },
  {
   "cell_type": "code",
   "execution_count": 0,
   "metadata": {
    "colab": {},
    "colab_type": "code",
    "id": "5qDkVEqXzIiH"
   },
   "outputs": [],
   "source": [
    "## Load numpy file.It is a big file (11 GB)\n",
    "file_images = glob.glob('/content/drive/My Drive/Thesis/Dataset/Images/gaf/gesture*/*/*.png')\n",
    "x_images = np.load('/content/drive/My Drive/Thesis/Dataset/x_images_numpy_clean.npy')"
   ]
  },
  {
   "cell_type": "markdown",
   "metadata": {
    "colab_type": "text",
    "id": "zjVFng5ZbB-1"
   },
   "source": [
    "## 2.2 Check image shape\n",
    "Should be (number of images, pixel width, pixel length, 3)\n",
    "So in this case: (7805,250,250,3)"
   ]
  },
  {
   "cell_type": "code",
   "execution_count": 0,
   "metadata": {
    "colab": {
     "base_uri": "https://localhost:8080/",
     "height": 35
    },
    "colab_type": "code",
    "id": "ou-B7fUmtaJH",
    "outputId": "1c229237-97ba-4b38-aff9-56ca26786516"
   },
   "outputs": [
    {
     "data": {
      "text/plain": [
       "(7805, 250, 250, 3)"
      ]
     },
     "execution_count": 6,
     "metadata": {
      "tags": []
     },
     "output_type": "execute_result"
    }
   ],
   "source": [
    "x_images.shape"
   ]
  },
  {
   "cell_type": "markdown",
   "metadata": {
    "colab_type": "text",
    "id": "-1k-I2MzcMKI"
   },
   "source": [
    "## 2.3 Training label data\n",
    "In these steps. The labels of the training data are locked with the x_images data."
   ]
  },
  {
   "cell_type": "code",
   "execution_count": 0,
   "metadata": {
    "colab": {},
    "colab_type": "code",
    "id": "7QfuMPQgvGN8"
   },
   "outputs": [],
   "source": [
    "file_images = [re.sub(\".*gaf.\",'',x) for x in file_images]\n",
    "file_images = [x.replace('gesture*','') for x in file_images]\n",
    "\n",
    "file_images = np.array(file_images)\n",
    "file_images2 = []\n",
    "\n",
    "for file in file_images:\n",
    "    fname = os.path.basename(file)\n",
    "    file_images2.append(fname) \n",
    "file_images3 = np.array(file_images2)"
   ]
  },
  {
   "cell_type": "code",
   "execution_count": 0,
   "metadata": {
    "colab": {},
    "colab_type": "code",
    "id": "iB9LVMNZmjgT"
   },
   "outputs": [],
   "source": [
    "y_labels_13 = pd.read_csv('/content/drive/My Drive/Thesis/Dataset/full_label.csv')\n",
    "y1 = y_labels_13['Name']\n",
    "y1 = np.array(y1)\n",
    "y_labels_13.set_index(y1, inplace=True)\n",
    "y_labels_13 = y_labels_13.loc[file_images3]\n",
    "y_labels_13 = y_labels_13.iloc[:,1:]\n",
    "y_labels_13 = np.array(y_labels_13)"
   ]
  },
  {
   "cell_type": "markdown",
   "metadata": {
    "colab_type": "text",
    "id": "45vneAbscmaT"
   },
   "source": [
    "# 3. Split data into training and validation"
   ]
  },
  {
   "cell_type": "code",
   "execution_count": 0,
   "metadata": {
    "colab": {},
    "colab_type": "code",
    "id": "zlYvObvawBO_"
   },
   "outputs": [],
   "source": [
    "from sklearn.model_selection import train_test_split\n",
    "X_train, X_test, y_train, y_test = train_test_split(x_images, y_labels_13, test_size=0.2, random_state=45)"
   ]
  },
  {
   "cell_type": "code",
   "execution_count": 0,
   "metadata": {
    "colab": {},
    "colab_type": "code",
    "id": "H4fmZXbwC9Sm"
   },
   "outputs": [],
   "source": [
    "## Delete few variables to preserve RAM\n",
    "del y_labels_13\n",
    "del y1\n",
    "del x_images\n",
    "del file_images\n",
    "del file_images2\n",
    "del file_images3\n"
   ]
  },
  {
   "cell_type": "markdown",
   "metadata": {
    "colab_type": "text",
    "id": "AnyvYfOHcrxS"
   },
   "source": [
    "# 4. Model building and hyper parameter tuning"
   ]
  },
  {
   "cell_type": "markdown",
   "metadata": {
    "colab_type": "text",
    "id": "yPeFIBUb2TQ3"
   },
   "source": [
    "To build a robust model that works on different splits, a 10-fold cross validation is implemented. In here, one can tune the hyper parameters to reach a high averaged accuracy. The model and (hyper)parameters with the highest accuracies are used as the final model."
   ]
  },
  {
   "cell_type": "code",
   "execution_count": 0,
   "metadata": {
    "colab": {
     "base_uri": "https://localhost:8080/",
     "height": 1000
    },
    "colab_type": "code",
    "id": "zEPyOG7Iz2Ko",
    "outputId": "a596d44e-bb51-40c6-b026-78ddf0b68496"
   },
   "outputs": [
    {
     "data": {
      "text/html": [
       "<p style=\"color: red;\">\n",
       "The default version of TensorFlow in Colab will soon switch to TensorFlow 2.x.<br>\n",
       "We recommend you <a href=\"https://www.tensorflow.org/guide/migrate\" target=\"_blank\">upgrade</a> now \n",
       "or ensure your notebook will continue to use TensorFlow 1.x via the <code>%tensorflow_version 1.x</code> magic:\n",
       "<a href=\"https://colab.research.google.com/notebooks/tensorflow_version.ipynb\" target=\"_blank\">more info</a>.</p>\n"
      ],
      "text/plain": [
       "<IPython.core.display.HTML object>"
      ]
     },
     "metadata": {
      "tags": []
     },
     "output_type": "display_data"
    },
    {
     "name": "stdout",
     "output_type": "stream",
     "text": [
      "Fold #1\n",
      "WARNING:tensorflow:From /usr/local/lib/python3.6/dist-packages/tensorflow_core/python/ops/resource_variable_ops.py:1630: calling BaseResourceVariable.__init__ (from tensorflow.python.ops.resource_variable_ops) with constraint is deprecated and will be removed in a future version.\n",
      "Instructions for updating:\n",
      "If using Keras pass *_constraint arguments to layers.\n",
      "Train on 5614 samples, validate on 630 samples\n",
      "Epoch 1/3\n",
      "5614/5614 [==============================] - 112s 20ms/sample - loss: 1.7051 - val_loss: 1.2498\n",
      "Epoch 2/3\n",
      "5614/5614 [==============================] - 100s 18ms/sample - loss: 1.0119 - val_loss: 1.1493\n",
      "Epoch 3/3\n",
      "5614/5614 [==============================] - 100s 18ms/sample - loss: 0.6427 - val_loss: 1.1852\n",
      "Fold score (accuracy): 0.6095238095238096\n",
      "Fold #2\n",
      "Train on 5615 samples, validate on 629 samples\n",
      "Epoch 1/3\n",
      "5615/5615 [==============================] - 109s 19ms/sample - loss: 1.7167 - val_loss: 1.1375\n",
      "Epoch 2/3\n",
      "5615/5615 [==============================] - 100s 18ms/sample - loss: 1.0040 - val_loss: 1.0128\n",
      "Epoch 3/3\n",
      "5615/5615 [==============================] - 100s 18ms/sample - loss: 0.6299 - val_loss: 1.2026\n",
      "Fold score (accuracy): 0.6089030206677265\n",
      "Fold #3\n",
      "Train on 5616 samples, validate on 628 samples\n",
      "Epoch 1/3\n",
      "5616/5616 [==============================] - 111s 20ms/sample - loss: 1.9202 - val_loss: 1.3784\n",
      "Epoch 2/3\n",
      "5616/5616 [==============================] - 101s 18ms/sample - loss: 1.1460 - val_loss: 1.0655\n",
      "Epoch 3/3\n",
      "5616/5616 [==============================] - 101s 18ms/sample - loss: 0.7478 - val_loss: 1.1583\n",
      "Fold score (accuracy): 0.5907643312101911\n",
      "Fold #4\n",
      "Train on 5617 samples, validate on 627 samples\n",
      "Epoch 1/3\n",
      "5617/5617 [==============================] - 114s 20ms/sample - loss: 1.7546 - val_loss: 1.2004\n",
      "Epoch 2/3\n",
      "5617/5617 [==============================] - 102s 18ms/sample - loss: 1.0333 - val_loss: 1.0624\n",
      "Epoch 3/3\n",
      "5617/5617 [==============================] - 101s 18ms/sample - loss: 0.6796 - val_loss: 1.1593\n",
      "Fold score (accuracy): 0.6108452950558214\n",
      "Fold #5\n",
      "Train on 5617 samples, validate on 627 samples\n",
      "Epoch 1/3\n",
      "5617/5617 [==============================] - 115s 20ms/sample - loss: 1.8652 - val_loss: 1.2858\n",
      "Epoch 2/3\n",
      "5617/5617 [==============================] - 101s 18ms/sample - loss: 1.1221 - val_loss: 1.0903\n",
      "Epoch 3/3\n",
      "5617/5617 [==============================] - 101s 18ms/sample - loss: 0.7354 - val_loss: 1.0733\n",
      "Fold score (accuracy): 0.6586921850079744\n",
      "Fold #6\n",
      "Train on 5620 samples, validate on 624 samples\n",
      "Epoch 1/3\n",
      "5620/5620 [==============================] - 117s 21ms/sample - loss: 1.8169 - val_loss: 1.3215\n",
      "Epoch 2/3\n",
      "5620/5620 [==============================] - 102s 18ms/sample - loss: 1.0869 - val_loss: 1.1674\n",
      "Epoch 3/3\n",
      "5620/5620 [==============================] - 102s 18ms/sample - loss: 0.6943 - val_loss: 1.1530\n",
      "Fold score (accuracy): 0.5849358974358975\n",
      "Fold #7\n",
      "Train on 5621 samples, validate on 623 samples\n",
      "Epoch 1/3\n",
      "5621/5621 [==============================] - 122s 22ms/sample - loss: 1.7257 - val_loss: 1.2037\n",
      "Epoch 2/3\n",
      "5621/5621 [==============================] - 104s 19ms/sample - loss: 1.0111 - val_loss: 1.0724\n",
      "Epoch 3/3\n",
      "5621/5621 [==============================] - 104s 18ms/sample - loss: 0.6540 - val_loss: 1.0534\n",
      "Fold score (accuracy): 0.6677367576243981\n",
      "Fold #8\n",
      "Train on 5623 samples, validate on 621 samples\n",
      "Epoch 1/3\n",
      "5623/5623 [==============================] - 122s 22ms/sample - loss: 1.7283 - val_loss: 1.4361\n",
      "Epoch 2/3\n",
      "5623/5623 [==============================] - 102s 18ms/sample - loss: 1.0656 - val_loss: 1.1452\n",
      "Epoch 3/3\n",
      "5623/5623 [==============================] - 102s 18ms/sample - loss: 0.6575 - val_loss: 1.2042\n",
      "Fold score (accuracy): 0.5990338164251208\n",
      "Fold #9\n",
      "Train on 5626 samples, validate on 618 samples\n",
      "Epoch 1/3\n",
      "5626/5626 [==============================] - 124s 22ms/sample - loss: 1.8279 - val_loss: 1.3498\n",
      "Epoch 2/3\n",
      "5626/5626 [==============================] - 103s 18ms/sample - loss: 1.0734 - val_loss: 1.1888\n",
      "Epoch 3/3\n",
      "5626/5626 [==============================] - 103s 18ms/sample - loss: 0.6855 - val_loss: 1.1954\n",
      "Fold score (accuracy): 0.5825242718446602\n",
      "Fold #10\n",
      "Train on 5627 samples, validate on 617 samples\n",
      "Epoch 1/3\n",
      "5627/5627 [==============================] - 127s 23ms/sample - loss: 1.6859 - val_loss: 1.1931\n",
      "Epoch 2/3\n",
      "5627/5627 [==============================] - 103s 18ms/sample - loss: 1.0380 - val_loss: 1.1495\n",
      "Epoch 3/3\n",
      "5627/5627 [==============================] - 102s 18ms/sample - loss: 0.6733 - val_loss: 1.1720\n",
      "Fold score (accuracy): 0.6126418152350082\n"
     ]
    }
   ],
   "source": [
    "import tensorflow as tf\n",
    "from tensorflow.keras.applications.xception import Xception\n",
    "from tensorflow.keras.layers import Dense, GlobalAveragePooling2D\n",
    "from tensorflow.keras.models import Model\n",
    "from tensorflow.keras.layers import LeakyReLU\n",
    "from sklearn.model_selection import StratifiedKFold\n",
    "from sklearn import metrics\n",
    "\n",
    "input_shape = (250,250,3)\n",
    "num_classes = 15\n",
    "\n",
    "kf = StratifiedKFold(n_splits=10, random_state=45)\n",
    "\n",
    "oos_y = []\n",
    "oos_pred = []\n",
    "fold = 0\n",
    "\n",
    "\n",
    "for train, test in kf.split(X_train, y_train):\n",
    "    fold +=1\n",
    "    print(\"Fold #{}\".format(fold))\n",
    "\n",
    "    x_train1 = X_train[train]\n",
    "    y_train1 = y_train[train]\n",
    "    x_test1 = X_train[test]\n",
    "    y_test1 = y_train[test]\n",
    "\n",
    "    adam = tf.keras.optimizers.Adam(lr=0.0001,beta_1 = 0.9, beta_2 = 0.999, epsilon=1e-08)     \n",
    "\n",
    "    base_model = Xception(weights='imagenet', include_top=False, input_shape=(250,250,3))\n",
    "    x = base_model.output\n",
    "    x = GlobalAveragePooling2D()(x)\n",
    "    model = x\n",
    "    model = (Dense(num_classes, activation='softmax'))(model)\n",
    "\n",
    "    outputs = model\n",
    "    model = Model(inputs=base_model.input, outputs=outputs)\n",
    "    model.compile(loss='sparse_categorical_crossentropy',\n",
    "                optimizer=adam)\n",
    "    model.fit(x_train1, y_train1, validation_data = (x_test1, y_test1), epochs=3, batch_size=20)\n",
    "\n",
    "    # evaluate model\n",
    "    pred = model.predict(x_test1)\n",
    "\n",
    "    oos_y.append(y_test1)\n",
    "    pred = np.argmax(pred,axis=1) # raw probabilities to chosen class (highest probability)\n",
    "    oos_pred.append(pred)  \n",
    "\n",
    "    # Measure this fold's accuracy\n",
    "    #y_compare = np.argmax(y_test,axis=1) # For accuracy calculation\n",
    "    score = metrics.accuracy_score(y_test1, pred)\n",
    "    print(f\"Fold score (accuracy): {score}\")\n",
    "    \n",
    "\n"
   ]
  },
  {
   "cell_type": "markdown",
   "metadata": {
    "colab_type": "text",
    "id": "V5EPJ-hi19em"
   },
   "source": [
    "**Calculate averaged accuracy over all folds**"
   ]
  },
  {
   "cell_type": "code",
   "execution_count": 0,
   "metadata": {
    "colab": {
     "base_uri": "https://localhost:8080/",
     "height": 35
    },
    "colab_type": "code",
    "id": "41N1s3rAd7Wo",
    "outputId": "7dcc8d17-a490-4010-fa2d-1597a81b0fcf"
   },
   "outputs": [
    {
     "name": "stdout",
     "output_type": "stream",
     "text": [
      "Final score (accuracy): 0.6125880845611787\n"
     ]
    }
   ],
   "source": [
    "oos_y1 = np.concatenate(oos_y)\n",
    "oos_pred1 = np.concatenate(oos_pred)\n",
    "\n",
    "score = metrics.accuracy_score(oos_y1, oos_pred1)\n",
    "print(f\"Final score (accuracy): {score}\")    \n",
    "    "
   ]
  },
  {
   "cell_type": "markdown",
   "metadata": {
    "colab_type": "text",
    "id": "IWQ2NzLU2Gd5"
   },
   "source": [
    "# 4. Final Model"
   ]
  },
  {
   "cell_type": "code",
   "execution_count": 0,
   "metadata": {
    "colab": {
     "base_uri": "https://localhost:8080/",
     "height": 102
    },
    "colab_type": "code",
    "id": "4XPk0uYrnZTO",
    "outputId": "33e2dbab-d42a-4a8d-e61d-a97a8327d2d1"
   },
   "outputs": [
    {
     "name": "stdout",
     "output_type": "stream",
     "text": [
      "Train on 6244 samples\n",
      "Epoch 1/2\n",
      "6244/6244 [==============================] - 122s 20ms/sample - loss: 1.4549 - sparse_categorical_accuracy: 0.4771\n",
      "Epoch 2/2\n",
      "6244/6244 [==============================] - 118s 19ms/sample - loss: 0.8758 - sparse_categorical_accuracy: 0.6871\n"
     ]
    }
   ],
   "source": [
    "import tensorflow as tf\n",
    "from tensorflow.keras.applications.xception import Xception\n",
    "from tensorflow.keras.layers import Dense, GlobalAveragePooling2D\n",
    "from tensorflow.keras.models import Model\n",
    "from tensorflow.keras.layers import LeakyReLU\n",
    "import keras.metrics as met\n",
    "\n",
    "\n",
    "input_shape = (250,250,3)\n",
    "num_classes = 15\n",
    "base_model = Xception(weights='imagenet', include_top=False, input_shape=(250,250,3))\n",
    "x = base_model.output\n",
    "x = GlobalAveragePooling2D()(x)\n",
    "model = x\n",
    "model = (Dense(num_classes, activation='softmax'))(model)\n",
    "\n",
    "outputs = model\n",
    "model = Model(inputs=base_model.input, outputs=outputs)\n",
    "adam = tf.keras.optimizers.Adam(lr=0.0001,beta_1 = 0.9, beta_2 = 0.999, epsilon=1e-08)\n",
    "model.compile(loss='sparse_categorical_crossentropy',\n",
    "          optimizer=adam,\n",
    "          metrics = [met.sparse_categorical_accuracy])\n",
    "\n",
    "batch_size=20\n",
    "nb_epoch=2\n",
    "\n",
    "history = model.fit(X_train, \n",
    "                    y_train, \n",
    "                    batch_size=batch_size, \n",
    "                    shuffle=True, \n",
    "                    epochs=nb_epoch)"
   ]
  },
  {
   "cell_type": "code",
   "execution_count": 0,
   "metadata": {
    "colab": {},
    "colab_type": "code",
    "id": "mgBoG6Dfxmsd"
   },
   "outputs": [],
   "source": [
    "# Save the model\n",
    "model.save('/content/drive/My Drive/Thesis/strat_cross_validation_0_614990.h5')"
   ]
  },
  {
   "cell_type": "markdown",
   "metadata": {
    "colab_type": "text",
    "id": "qwi7Ze3F3Ja1"
   },
   "source": [
    "# 5. Prediction and accuracy score"
   ]
  },
  {
   "cell_type": "code",
   "execution_count": 0,
   "metadata": {
    "colab": {},
    "colab_type": "code",
    "id": "6r7bCbj5jNaD"
   },
   "outputs": [],
   "source": [
    "# Lets use the final model to predict X_test\n",
    "pred = model.predict(X_test)"
   ]
  },
  {
   "cell_type": "code",
   "execution_count": 0,
   "metadata": {
    "colab": {},
    "colab_type": "code",
    "id": "1K3Pk3XI110b"
   },
   "outputs": [],
   "source": [
    "# Save the predictions and the y_test in a numpy array if one wants to analyse it later\n",
    "np.save('/content/drive/My Drive/Thesis/prediction_strat_not_argmax', pred)\n",
    "np.save('/content/drive/My Drive/Thesis/test_set_labels', y_test)\n"
   ]
  },
  {
   "cell_type": "code",
   "execution_count": 0,
   "metadata": {
    "colab": {},
    "colab_type": "code",
    "id": "OuKKAds_jBtG"
   },
   "outputs": [],
   "source": [
    "# Load the predictions and the y_test numpy array for analysing it \n",
    "pred = np.load('/content/drive/My Drive/Thesis/prediction_strat_not_argmax.npy')\n",
    "y_test = np.load('/content/drive/My Drive/Thesis/test_set_labels.npy')"
   ]
  },
  {
   "cell_type": "code",
   "execution_count": 0,
   "metadata": {
    "colab": {},
    "colab_type": "code",
    "id": "oYnpgpcejnwu"
   },
   "outputs": [],
   "source": [
    "# Take the maximum probability of every predition in the column direction (horizontal)\n",
    "pred_max = np.argmax(pred,axis=1)"
   ]
  },
  {
   "cell_type": "code",
   "execution_count": 0,
   "metadata": {
    "colab": {
     "base_uri": "https://localhost:8080/",
     "height": 34
    },
    "colab_type": "code",
    "id": "ZSZeN3l9jjva",
    "outputId": "47c4b89f-580e-469d-a29d-74645be6c104"
   },
   "outputs": [
    {
     "name": "stdout",
     "output_type": "stream",
     "text": [
      "Accuracy score: 0.6149903907751442\n"
     ]
    }
   ],
   "source": [
    "# Calculate the final accuracy score by comparing predicted labels of pred_max and true labels in y_test\n",
    "from sklearn import metrics\n",
    "score = metrics.accuracy_score(y_test, pred_max)\n",
    "print(\"Accuracy score: {}\".format(score))"
   ]
  },
  {
   "cell_type": "code",
   "execution_count": 0,
   "metadata": {
    "colab": {
     "base_uri": "https://localhost:8080/",
     "height": 34
    },
    "colab_type": "code",
    "id": "ZAGgEYW4x52g",
    "outputId": "4c36f69f-5bbd-423a-ee68-45de2cc7ae63"
   },
   "outputs": [
    {
     "name": "stdout",
     "output_type": "stream",
     "text": [
      "[1.0807168035458328, 0.6149904]\n"
     ]
    }
   ],
   "source": [
    "# Lets see if the accuracy score is the same with model.evaluate from keras\n",
    "score = model.evaluate(X_test, y_test, verbose=0)\n",
    "print(score)"
   ]
  },
  {
   "cell_type": "markdown",
   "metadata": {
    "colab_type": "text",
    "id": "TuUuJznb4SvH"
   },
   "source": [
    "## 5.1 Analyses"
   ]
  },
  {
   "cell_type": "markdown",
   "metadata": {
    "colab_type": "text",
    "id": "KcyR3_8x4aBD"
   },
   "source": [
    "To look further into the data, a confusion matrix is built."
   ]
  },
  {
   "cell_type": "code",
   "execution_count": 0,
   "metadata": {
    "colab": {},
    "colab_type": "code",
    "id": "KIgb0ibhj--J"
   },
   "outputs": [],
   "source": [
    "# Load the label data with the gesture names in it to be used for the confusion matrix\n",
    "y_labels_13 = pd.read_csv('/content/drive/My Drive/Thesis/Dataset/full_label_with_gesture_names.csv')\n",
    "dummies = pd.get_dummies(y_labels_13['Gesture']) # Classification\n",
    "products = dummies.columns"
   ]
  },
  {
   "cell_type": "markdown",
   "metadata": {
    "colab_type": "text",
    "id": "xu10IS985EZp"
   },
   "source": [
    "### 5.1a Confusion matrix 1st way"
   ]
  },
  {
   "cell_type": "code",
   "execution_count": 0,
   "metadata": {
    "colab": {},
    "colab_type": "code",
    "id": "Ar6-aH8_licC"
   },
   "outputs": [],
   "source": [
    "import matplotlib.pyplot as plt\n",
    "import itertools\n",
    "\n",
    "\n",
    "def plot_confusion_matrix(cm,\n",
    "                          target_names,\n",
    "                          title='Confusion matrix',\n",
    "                          cmap=None,\n",
    "                          normalize=True):\n",
    "\n",
    "    accuracy = np.trace(cm) / np.sum(cm).astype('float')\n",
    "    misclass = 1 - accuracy\n",
    "\n",
    "    if cmap is None:\n",
    "        cmap = plt.get_cmap('Blues')\n",
    "\n",
    "    plt.figure(figsize=(12, 12))\n",
    "    plt.imshow(cm, interpolation='nearest', cmap=cmap)\n",
    "    plt.title(title)\n",
    "    plt.colorbar()\n",
    "\n",
    "    if target_names is not None:\n",
    "        tick_marks = np.arange(len(target_names))\n",
    "        plt.xticks(tick_marks, target_names, rotation=45)\n",
    "        plt.yticks(tick_marks, target_names)\n",
    "\n",
    "    if normalize:\n",
    "        cm = cm.astype('float') / cm.sum(axis=1)[:, np.newaxis]\n",
    "\n",
    "\n",
    "    thresh = cm.max() / 1.5 if normalize else cm.max() / 2\n",
    "    for i, j in itertools.product(range(cm.shape[0]), range(cm.shape[1])):\n",
    "        if normalize:\n",
    "            plt.text(j, i, \"{:0.4f}\".format(cm[i, j]),\n",
    "                     horizontalalignment=\"center\",\n",
    "                     color=\"white\" if cm[i, j] > thresh else \"black\")\n",
    "        else:\n",
    "            plt.text(j, i, \"{:,}\".format(cm[i, j]),\n",
    "                     horizontalalignment=\"center\",\n",
    "                     color=\"white\" if cm[i, j] > thresh else \"black\")\n",
    "\n",
    "\n",
    "    plt.tight_layout()\n",
    "    plt.ylabel('True label')\n",
    "    plt.xlabel('Predicted label\\naccuracy={:0.4f}; misclass={:0.4f}'.format(accuracy, misclass))\n",
    "    plt.show()"
   ]
  },
  {
   "cell_type": "code",
   "execution_count": 0,
   "metadata": {
    "colab": {
     "base_uri": "https://localhost:8080/",
     "height": 873
    },
    "colab_type": "code",
    "id": "BSQvR0XNl1-2",
    "outputId": "897b227e-2ef5-4311-9853-e48b01805dea"
   },
   "outputs": [
    {
     "data": {
      "image/png": "[encoded data removed]",
      "text/plain": [
       "<Figure size 864x864 with 2 Axes>"
      ]
     },
     "metadata": {
      "tags": []
     },
     "output_type": "display_data"
    }
   ],
   "source": [
    "plot_confusion_matrix(cm, products, normalize=False)"
   ]
  },
  {
   "cell_type": "markdown",
   "metadata": {
    "colab_type": "text",
    "id": "M3kfaPmt5V7M"
   },
   "source": [
    "### 5.2b Confusion matrix 2nd way"
   ]
  },
  {
   "cell_type": "code",
   "execution_count": 0,
   "metadata": {
    "colab": {},
    "colab_type": "code",
    "id": "NMKhP0oTzfR8"
   },
   "outputs": [],
   "source": [
    "import matplotlib.pyplot as plt\n",
    "\n",
    "def plot_confusion_matrix(cm, names, title='Confusion matrix', cmap=plt.cm.Blues):\n",
    "    plt.imshow(cm, interpolation='nearest', cmap=cmap)\n",
    "    plt.title(title)\n",
    "    plt.colorbar()\n",
    "    tick_marks = np.arange(len(names))\n",
    "    plt.xticks(tick_marks, names, rotation=45)\n",
    "    plt.yticks(tick_marks, names)\n",
    "    plt.tight_layout()\n",
    "    plt.ylabel('True label')\n",
    "    plt.xlabel('Predicted label')"
   ]
  },
  {
   "cell_type": "code",
   "execution_count": 0,
   "metadata": {
    "colab": {
     "base_uri": "https://localhost:8080/",
     "height": 1000
    },
    "colab_type": "code",
    "id": "cp6O8GhUkZfL",
    "outputId": "73605f74-a007-4c7e-c39e-c975d3f831fc"
   },
   "outputs": [
    {
     "name": "stdout",
     "output_type": "stream",
     "text": [
      "Confusion matrix, without normalization\n",
      "[[ 65   2   0   1   2   0  12   1   3   0  27   0   0   0]\n",
      " [  0  89   0  11   0   4   0   0   0  11   0   0  11   0]\n",
      " [  0   0  62   0   0   1   0  12   6   0   3   0   0   8]\n",
      " [  0  15   0  81   0   1   2   0   0  11   0   0  12   0]\n",
      " [  0   0   0   2 109  10   7   0   0   0  11   0   0   0]\n",
      " [  0   1   0   4  10  78   8   0   0   0   0   0  10   0]\n",
      " [  2   2   0   1   3   9  84   0   0   0   9   0   0   0]\n",
      " [  1   2  13   1   2   0   4  29  14   0   2  15   1   5]\n",
      " [  0   1   5   3   1   1   0   6  41   0   1   7   2  42]\n",
      " [  0  38   0  11   0   0   0   0   0  64   0   0   5   0]\n",
      " [ 28   1   0   0  13   0   7   1   0   0  60   0   0   0]\n",
      " [  0   2   0   4   0   0   1  13  10   1   1  67   1   3]\n",
      " [  0   6   0  44   0   3   2   0   0   7   0   0  43   2]\n",
      " [  0   0   2   3   0   1   0   1  13   1   0   1   1  88]]\n",
      "Normalized confusion matrix\n",
      "[[0.58 0.02 0.   0.01 0.02 0.   0.11 0.01 0.03 0.   0.24 0.   0.   0.  ]\n",
      " [0.   0.71 0.   0.09 0.   0.03 0.   0.   0.   0.09 0.   0.   0.09 0.  ]\n",
      " [0.   0.   0.67 0.   0.   0.01 0.   0.13 0.07 0.   0.03 0.   0.   0.09]\n",
      " [0.   0.12 0.   0.66 0.   0.01 0.02 0.   0.   0.09 0.   0.   0.1  0.  ]\n",
      " [0.   0.   0.   0.01 0.78 0.07 0.05 0.   0.   0.   0.08 0.   0.   0.  ]\n",
      " [0.   0.01 0.   0.04 0.09 0.7  0.07 0.   0.   0.   0.   0.   0.09 0.  ]\n",
      " [0.02 0.02 0.   0.01 0.03 0.08 0.76 0.   0.   0.   0.08 0.   0.   0.  ]\n",
      " [0.01 0.02 0.15 0.01 0.02 0.   0.04 0.33 0.16 0.   0.02 0.17 0.01 0.06]\n",
      " [0.   0.01 0.05 0.03 0.01 0.01 0.   0.05 0.37 0.   0.01 0.06 0.02 0.38]\n",
      " [0.   0.32 0.   0.09 0.   0.   0.   0.   0.   0.54 0.   0.   0.04 0.  ]\n",
      " [0.25 0.01 0.   0.   0.12 0.   0.06 0.01 0.   0.   0.55 0.   0.   0.  ]\n",
      " [0.   0.02 0.   0.04 0.   0.   0.01 0.13 0.1  0.01 0.01 0.65 0.01 0.03]\n",
      " [0.   0.06 0.   0.41 0.   0.03 0.02 0.   0.   0.07 0.   0.   0.4  0.02]\n",
      " [0.   0.   0.02 0.03 0.   0.01 0.   0.01 0.12 0.01 0.   0.01 0.01 0.79]]\n"
     ]
    },
    {
     "data": {
      "image/png": "[encoded data removed]",
      "text/plain": [
       "<Figure size 432x288 with 2 Axes>"
      ]
     },
     "metadata": {
      "tags": []
     },
     "output_type": "display_data"
    },
    {
     "data": {
      "image/png": "[encoded data removed]",
      "text/plain": [
       "<Figure size 432x288 with 2 Axes>"
      ]
     },
     "metadata": {
      "tags": []
     },
     "output_type": "display_data"
    }
   ],
   "source": [
    "from sklearn import svm, datasets\n",
    "from sklearn.model_selection import train_test_split\n",
    "from sklearn.metrics import confusion_matrix\n",
    "\n",
    "# Compute confusion matrix\n",
    "cm = confusion_matrix(y_test, pred_max)\n",
    "np.set_printoptions(precision=2)\n",
    "print('Confusion matrix, without normalization')\n",
    "print(cm)\n",
    "plt.figure()\n",
    "plot_confusion_matrix(cm, products)\n",
    "\n",
    "# Normalize the confusion matrix by row (i.e by the number of samples\n",
    "# in each class)\n",
    "cm_normalized = cm.astype('float') / cm.sum(axis=1)[:, np.newaxis]\n",
    "print('Normalized confusion matrix')\n",
    "print(cm_normalized)\n",
    "plt.figure()\n",
    "plot_confusion_matrix(cm_normalized, products, title='Normalized confusion matrix')\n",
    "\n",
    "plt.show()"
   ]
  }
 ],
 "metadata": {
  "accelerator": "GPU",
  "colab": {
   "collapsed_sections": [
    "45vneAbscmaT"
   ],
   "machine_shape": "hm",
   "name": "Copy of Stratified K fold  All 14 gestures gaf.ipynb",
   "provenance": [],
   "toc_visible": true
  },
  "kernelspec": {
   "display_name": "Python 3",
   "language": "python",
   "name": "python3"
  },
  "language_info": {
   "codemirror_mode": {
    "name": "ipython",
    "version": 3
   },
   "file_extension": ".py",
   "mimetype": "text/x-python",
   "name": "python",
   "nbconvert_exporter": "python",
   "pygments_lexer": "ipython3",
   "version": "3.6.5"
  }
 },
 "nbformat": 4,
 "nbformat_minor": 1
}
